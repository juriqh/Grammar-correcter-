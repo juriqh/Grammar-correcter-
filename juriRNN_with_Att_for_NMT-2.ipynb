{
  "nbformat": 4,
  "nbformat_minor": 0,
  "metadata": {
    "colab": {
      "provenance": [],
      "gpuType": "A100",
      "machine_shape": "hm"
    },
    "kernelspec": {
      "name": "python3",
      "display_name": "Python 3"
    },
    "language_info": {
      "name": "python"
    },
    "accelerator": "GPU"
  },
  "cells": [
    {
      "cell_type": "code",
      "execution_count": 1,
      "metadata": {
        "id": "tVsnC2v1lt5M"
      },
      "outputs": [],
      "source": [
        "# Import Required Libraries\n",
        "import pandas as pd\n",
        "import re\n",
        "import string\n",
        "import numpy as np\n",
        "import pickle\n",
        "from tensorflow.keras.preprocessing.text import Tokenizer\n",
        "from tensorflow.keras.preprocessing.sequence import pad_sequences\n",
        "from sklearn.model_selection import train_test_split\n",
        "from datasets import load_dataset\n"
      ]
    },
    {
      "cell_type": "code",
      "source": [
        "from google.colab import drive\n",
        "drive.mount('/content/drive')"
      ],
      "metadata": {
        "colab": {
          "base_uri": "https://localhost:8080/"
        },
        "id": "Zosw4SICxXDs",
        "outputId": "887f63a3-9917-4d4b-de8a-13b4abd0f4e1"
      },
      "execution_count": 2,
      "outputs": [
        {
          "output_type": "stream",
          "name": "stdout",
          "text": [
            "Mounted at /content/drive\n"
          ]
        }
      ]
    },
    {
      "cell_type": "markdown",
      "source": [
        "# loading data"
      ],
      "metadata": {
        "id": "4IZYmjmQcQsw"
      }
    },
    {
      "cell_type": "code",
      "source": [
        "data_file_path = \"/content/Total_final_dataset.csv\" # Adjust path if necessary\n",
        "\n",
        "\n",
        "try:\n",
        "    # Read the single CSV file into a pandas DataFrame\n",
        "    full_df = pd.read_csv(data_file_path)\n",
        "    print(\"- Full DataFrame loaded.\")\n",
        "    print(f\"Full dataset shape: {full_df.shape}\")\n",
        "\n",
        "    total_sample_size = 50000\n",
        "    if len(full_df) > total_sample_size:\n",
        "        print(f\"Sampling {total_sample_size} examples from the full dataset...\")\n",
        "        sampled_df = full_df.sample(n=total_sample_size, random_state=42)\n",
        "    else:\n",
        "        print(\"Dataset size is less than or equal to sample size, using full dataset.\")\n",
        "        sampled_df = full_df.copy()\n",
        "\n",
        "    print(f\"Sampled DataFrame shape: {sampled_df.shape}\")\n",
        "    print(\"\\nSampled DataFrame head:\")\n",
        "    print(sampled_df.head())\n",
        "\n",
        "\n",
        "except FileNotFoundError:\n",
        "    print(f\"\\nError: Make sure '{data_file_path}' is uploaded to Colab or the correct path is specified.\")\n",
        "    raise\n",
        "except Exception as e:\n",
        "    print(f\"\\nAn error occurred while reading or sampling CSV file: {e}\")\n",
        "    raise\n",
        "\n",
        "print(\"\\nFormatting Sampled DataFrame (Extracting one correction from 'target')...\")\n",
        "\n",
        "# Function to format a single DataFrame (using input -> incorrect mapping)\n",
        "def format_gec_df(df):\n",
        "    if 'input' not in df.columns or 'target' not in df.columns:\n",
        "        raise ValueError(\"DataFrame must contain 'input' and 'target' columns.\")\n",
        "\n",
        "    formatted_df = df[[\"input\", \"target\"]].copy()\n",
        "\n",
        "    def get_first_correction(target_string):\n",
        "        if isinstance(target_string, str):\n",
        "            corrections = target_string.split(',')\n",
        "            if corrections:\n",
        "                return corrections[0].strip()\n",
        "        return \"\"\n",
        "\n",
        "    formatted_df[\"corrected\"] = formatted_df[\"target\"].apply(get_first_correction)\n",
        "    formatted_df = formatted_df.drop(columns=[\"target\"])\n",
        "    formatted_df = formatted_df.rename(columns={\"input\": \"incorrect\"})\n",
        "    return formatted_df\n",
        "\n",
        "try:\n",
        "    # Apply formatting to the sampled DataFrame\n",
        "    formatted_sampled_df = format_gec_df(sampled_df)\n",
        "    print(\"Sampled DataFrame formatted successfully.\")\n",
        "    print(\"\\nFormatted Sampled DataFrame head (Incorrect -> Corrected):\")\n",
        "    print(formatted_sampled_df.head())\n",
        "    print(f\"\\nFormatted Sampled DataFrame shape: {formatted_sampled_df.shape}\")\n",
        "\n",
        "except Exception as e:\n",
        "    print(f\"An error occurred during DataFrame formatting: {e}\")\n",
        "    raise e\n",
        "\n",
        "\n",
        "\n",
        "train_size_ratio = 0.8\n",
        "validation_ratio = 0.1\n",
        "test_ratio = 0.1\n",
        "\n",
        "\n",
        "# First split: Separate out the main training set and the rest (validation + test)\n",
        "print(f\"\\nSplitting sampled data into Train ({train_size_ratio*100}%), Validation/Test ({(validation_ratio+test_ratio)*100}%)...\")\n",
        "train_df_final, val_test_df_final = train_test_split(\n",
        "    formatted_sampled_df,\n",
        "    train_size=train_size_ratio,\n",
        "    random_state=42,\n",
        ")\n",
        "print(f\"- Train split shape: {train_df_final.shape}\")\n",
        "print(f\"- Validation/Test split shape: {val_test_df_final.shape}\")\n",
        "\n",
        "\n",
        "print(f\"\\nSplitting Validation/Test data into Validation ({validation_ratio/(validation_ratio+test_ratio)*100}%) and Test ({test_ratio/(validation_ratio+test_ratio)*100}%)...\")\n",
        "validation_df_final, test_df_final = train_test_split(\n",
        "    val_test_df_final,\n",
        "    test_size=test_ratio / (validation_ratio + test_ratio), # Calculate test size relative to val_test split\n",
        "    random_state=42,\n",
        ")\n",
        "print(f\"- Validation split shape: {validation_df_final.shape}\")\n",
        "print(f\"- Test split shape: {test_df_final.shape}\")\n",
        "\n",
        "\n",
        "print(\"\\nAssigning split DataFrames to variables for cleaning/tokenization step:\")\n",
        "\n",
        "train_df_cleaned_input = train_df_final\n",
        "eval_df_cleaned_input = validation_df_final # Use validation for eval during training\n",
        "test_df_cleaned_input = test_df_final     # Use test for final evaluation/Gradio\n",
        "\n",
        "print(f\"- train_df_cleaned_input shape: {train_df_cleaned_input.shape}\")\n",
        "print(f\"- eval_df_cleaned_input shape: {eval_df_cleaned_input.shape}\")\n",
        "print(f\"- test_df_cleaned_input shape: {test_df_cleaned_input.shape}\")\n",
        "\n",
        "print(\"\\nData splitting complete. Proceed to the cleaning and tokenization step (Step 3).\")"
      ],
      "metadata": {
        "colab": {
          "base_uri": "https://localhost:8080/"
        },
        "id": "QQ8Ptr2dzT1A",
        "outputId": "3e4da26a-4b62-4d23-d1c0-290f890deb32"
      },
      "execution_count": 3,
      "outputs": [
        {
          "output_type": "stream",
          "name": "stdout",
          "text": [
            "- Full DataFrame loaded.\n",
            "Full dataset shape: (67645, 2)\n",
            "Sampling 50000 examples from the full dataset...\n",
            "Sampled DataFrame shape: (50000, 2)\n",
            "\n",
            "Sampled DataFrame head:\n",
            "                                                   input  \\\n",
            "65274  The crowd at Millthorpe train station on the o...   \n",
            "60459  Candidate should grow up about the outbinds sa...   \n",
            "52367  The next few screens marked customization of t...   \n",
            "55188  Since June of 2018 —​ independett Member of Bo...   \n",
            "27942                   Has Superman even said, “Ouch!”?   \n",
            "\n",
            "                                                  target  \n",
            "65274  The crowd at Millthorpe train station on the o...  \n",
            "60459  Candidate should have knowledge about the outb...  \n",
            "52367  The next few screens involved customizing the ...  \n",
            "55188  Since June 2018 —​ independent Member of the B...  \n",
            "27942                   Has Superman ever said, “Ouch!”?  \n",
            "\n",
            "Formatting Sampled DataFrame (Extracting one correction from 'target')...\n",
            "Sampled DataFrame formatted successfully.\n",
            "\n",
            "Formatted Sampled DataFrame head (Incorrect -> Corrected):\n",
            "                                               incorrect  \\\n",
            "65274  The crowd at Millthorpe train station on the o...   \n",
            "60459  Candidate should grow up about the outbinds sa...   \n",
            "52367  The next few screens marked customization of t...   \n",
            "55188  Since June of 2018 —​ independett Member of Bo...   \n",
            "27942                   Has Superman even said, “Ouch!”?   \n",
            "\n",
            "                                               corrected  \n",
            "65274  The crowd at Millthorpe train station on the o...  \n",
            "60459  Candidate should have knowledge about the outb...  \n",
            "52367  The next few screens involved customizing the ...  \n",
            "55188  Since June 2018 —​ independent Member of the B...  \n",
            "27942                             Has Superman ever said  \n",
            "\n",
            "Formatted Sampled DataFrame shape: (50000, 2)\n",
            "\n",
            "Splitting sampled data into Train (80.0%), Validation/Test (20.0%)...\n",
            "- Train split shape: (40000, 2)\n",
            "- Validation/Test split shape: (10000, 2)\n",
            "\n",
            "Splitting Validation/Test data into Validation (50.0%) and Test (50.0%)...\n",
            "- Validation split shape: (5000, 2)\n",
            "- Test split shape: (5000, 2)\n",
            "\n",
            "Assigning split DataFrames to variables for cleaning/tokenization step:\n",
            "- train_df_cleaned_input shape: (40000, 2)\n",
            "- eval_df_cleaned_input shape: (5000, 2)\n",
            "- test_df_cleaned_input shape: (5000, 2)\n",
            "\n",
            "Data splitting complete. Proceed to the cleaning and tokenization step (Step 3).\n"
          ]
        }
      ]
    },
    {
      "cell_type": "markdown",
      "source": [
        "# cleaning n preprocessing data\n",
        "\n"
      ],
      "metadata": {
        "id": "5JDHIBjjcWkb"
      }
    },
    {
      "cell_type": "code",
      "source": [
        "\n",
        "# Assign the *final split* DataFrames from Step 2 (which are already formatted)\n",
        "train_df_cleaned_input = train_df_final\n",
        "eval_df_cleaned_input = validation_df_final # Use validation for eval during training\n",
        "test_df_cleaned_input = test_df_final     # Use test for final evaluation/Gradio\n",
        "\n",
        "\n",
        "# --- Define Cleaning Function (for pandas Series) ---\n",
        "def clean_series(series):\n",
        "    cleaned_list = []\n",
        "    translator = str.maketrans('', '', string.punctuation + string.digits)\n",
        "    for text in series:\n",
        "        if isinstance(text, str):\n",
        "            text = \" \".join(text.split())\n",
        "            text = text.lower()\n",
        "            text = text.translate(translator)\n",
        "        else:\n",
        "            text = \"\" # Handle non-string entries gracefully\n",
        "        cleaned_list.append(text)\n",
        "    return pd.Series(cleaned_list, index=series.index)\n",
        "\n",
        "print(\"Cleaning text in DataFrames...\")\n",
        "\n",
        "# Apply cleaning\n",
        "train_df_cleaned = train_df_cleaned_input.copy()\n",
        "eval_df_cleaned = eval_df_cleaned_input.copy()\n",
        "test_df_cleaned = test_df_cleaned_input.copy()\n",
        "\n",
        "train_df_cleaned['incorrect'] = clean_series(train_df_cleaned['incorrect'])\n",
        "train_df_cleaned['corrected'] = clean_series(train_df_cleaned['corrected'])\n",
        "\n",
        "eval_df_cleaned['incorrect'] = clean_series(eval_df_cleaned['incorrect'])\n",
        "eval_df_cleaned['corrected'] = clean_series(eval_df_cleaned['corrected'])\n",
        "\n",
        "test_df_cleaned['incorrect'] = clean_series(test_df_cleaned['incorrect'])\n",
        "test_df_cleaned['corrected'] = clean_series(test_df_cleaned['corrected'])\n",
        "\n",
        "print(\"Text cleaning complete.\")\n",
        "\n",
        "\n",
        "# --- Drop rows with empty input or target after cleaning ---\n",
        "print(\"Dropping rows with empty incorrect or corrected sentences after cleaning...\")\n",
        "original_train_rows = len(train_df_cleaned)\n",
        "original_eval_rows = len(eval_df_cleaned)\n",
        "original_test_rows = len(test_df_cleaned)\n",
        "\n",
        "train_df_cleaned = train_df_cleaned[\n",
        "    (train_df_cleaned['incorrect'].str.len() > 0) &\n",
        "    (train_df_cleaned['corrected'].str.len() > 0)\n",
        "].reset_index(drop=True)\n",
        "\n",
        "eval_df_cleaned = eval_df_cleaned[\n",
        "    (eval_df_cleaned['incorrect'].str.len() > 0) &\n",
        "    (eval_df_cleaned['corrected'].str.len() > 0)\n",
        "].reset_index(drop=True)\n",
        "\n",
        "test_df_cleaned = test_df_cleaned[\n",
        "    (test_df_cleaned['incorrect'].str.len() > 0) &\n",
        "    (test_df_cleaned['corrected'].str.len() > 0)\n",
        "].reset_index(drop=True)\n",
        "\n",
        "print(f\"- Dropped {original_train_rows - len(train_df_cleaned)} rows from train.\")\n",
        "print(f\"- Dropped {original_eval_rows - len(eval_df_cleaned)} rows from eval.\")\n",
        "print(f\"- Dropped {original_test_rows - len(test_df_cleaned)} rows from test.\")\n",
        "\n",
        "\n",
        "print(\"\\nCleaned Train DataFrame head:\")\n",
        "print(train_df_cleaned.head())\n",
        "\n",
        "# --- Add Special Tokens to Target (Corrected) Side ---\n",
        "print(\"\\nAdding SOS/EOS tokens to corrected sentences...\")\n",
        "train_df_cleaned['corrected'] = train_df_cleaned['corrected'].apply(lambda x: 'sos ' + x + ' eos')\n",
        "eval_df_cleaned['corrected'] = eval_df_cleaned['corrected'].apply(lambda x: 'sos ' + x + ' eos')\n",
        "test_df_cleaned['corrected'] = test_df_cleaned['corrected'].apply(lambda x: 'sos ' + x + ' eos')\n",
        "\n",
        "print(\"Special tokens added.\")\n",
        "print(\"\\nTrain DataFrame head with special tokens in 'corrected':\")\n",
        "print(train_df_cleaned.head())\n",
        "\n",
        "\n",
        "# --- Build Keras Tokenizer Vocabulary ---\n",
        "# Collect all cleaned text *after* dropping empty rows\n",
        "all_input_text = pd.concat([train_df_cleaned['incorrect'], eval_df_cleaned['incorrect'], test_df_cleaned['incorrect']])\n",
        "all_target_text = pd.concat([train_df_cleaned['corrected'], eval_df_cleaned['corrected'], test_df_cleaned['corrected']])\n",
        "all_text = pd.concat([all_input_text, all_target_text])\n",
        "\n",
        "print(f\"\\nBuilding Keras Tokenizer vocabulary from {len(all_text)} sentences...\")\n",
        "# --- Robustness: Limit vocabulary size ---\n",
        "VOCAB_LIMIT = 20000\n",
        "keras_tokenizer = Tokenizer(num_words=VOCAB_LIMIT, oov_token='<unk>')\n",
        "keras_tokenizer.fit_on_texts(all_text)\n",
        "\n",
        "\n",
        "VOCAB_SIZE = len(keras_tokenizer.word_index) + 1\n",
        "actual_vocab_size = len(keras_tokenizer.word_index)\n",
        "print(f\"Tokenizer fitted vocabulary size (including OOV): {actual_vocab_size}\")\n",
        "print(f\"Final VOCAB_SIZE for model (includes padding): {VOCAB_SIZE}\")\n",
        "\n",
        "\n",
        "# Tokenize and Pad Sequences\n",
        "# Convert text to sequences of integers using the fitted tokenizer\n",
        "train_input_sequences = keras_tokenizer.texts_to_sequences(train_df_cleaned['incorrect'])\n",
        "train_target_sequences = keras_tokenizer.texts_to_sequences(train_df_cleaned['corrected'])\n",
        "\n",
        "eval_input_sequences = keras_tokenizer.texts_to_sequences(eval_df_cleaned['incorrect'])\n",
        "eval_target_sequences = keras_tokenizer.texts_to_sequences(eval_df_cleaned['corrected'])\n",
        "\n",
        "test_input_sequences = keras_tokenizer.texts_to_sequences(test_df_cleaned['incorrect'])\n",
        "test_target_sequences = keras_tokenizer.texts_to_sequences(test_df_cleaned['corrected'])\n",
        "\n",
        "\n",
        "# Determine max sequence length *after* tokenization\n",
        "print(\"\\nCalculating max sequence lengths...\")\n",
        "all_sequences = train_input_sequences + train_target_sequences + \\\n",
        "                eval_input_sequences + eval_target_sequences + \\\n",
        "                test_input_sequences + test_target_sequences\n",
        "\n",
        "max_len_calculated = max(len(seq) for seq in all_sequences) if all_sequences else 0\n",
        "print(f\"Calculated max sequence length across all data: {max_len_calculated}\")\n",
        "\n",
        "fixed_max_len = min(max_len_calculated + 5, 128)\n",
        "print(f\"Using a fixed max length for padding of: {fixed_max_len}\")\n",
        "\n",
        "\n",
        "# Pad sequences\n",
        "train_input_padded = pad_sequences(train_input_sequences, maxlen=fixed_max_len, padding='post')\n",
        "train_target_padded = pad_sequences(train_target_sequences, maxlen=fixed_max_len, padding='post')\n",
        "\n",
        "eval_input_padded = pad_sequences(eval_input_sequences, maxlen=fixed_max_len, padding='post')\n",
        "eval_target_padded = pad_sequences(eval_target_sequences, maxlen=fixed_max_len, padding='post')\n",
        "\n",
        "test_input_padded = pad_sequences(test_input_sequences, maxlen=fixed_max_len, padding='post')\n",
        "test_target_padded = pad_sequences(test_target_sequences, maxlen=fixed_max_len, padding='post')\n",
        "\n",
        "\n",
        "X_train = train_input_padded\n",
        "y_train = train_target_padded\n",
        "\n",
        "X_test = eval_input_padded\n",
        "y_test = eval_target_padded\n",
        "\n",
        "X_final_test = test_input_padded\n",
        "y_final_test = test_target_padded\n",
        "\n",
        "MAX_INPUT_LEN = fixed_max_len\n",
        "MAX_TARGET_LEN = fixed_max_len\n",
        "\n",
        "word_to_index = keras_tokenizer.word_index\n",
        "index_to_word = keras_tokenizer.index_word\n",
        "sos_token_id = word_to_index.get('sos')\n",
        "eos_token_id = word_to_index.get('eos')\n",
        "\n",
        "print(\"\\nTokenization and padding complete.\")\n",
        "\n",
        "print(\"\\nFinal Data Parameters:\")\n",
        "print(f\"Vocabulary Size (VOCAB_SIZE): {VOCAB_SIZE}\")\n",
        "print(f\"Max Input Sequence Length (MAX_INPUT_LEN): {MAX_INPUT_LEN}\")\n",
        "print(f\"Max Target Sequence Length (MAX_TARGET_LEN): {MAX_TARGET_LEN}\")\n",
        "\n",
        "print(\"\\nShapes of processed data for Keras:\")\n",
        "print(f\"X_train shape: {X_train.shape}\")\n",
        "print(f\"y_train shape: {y_train.shape}\")\n",
        "print(f\"X_test (used for validation during training) shape: {X_test.shape}\")\n",
        "print(f\"y_test (used for validation during training) shape: {y_test.shape}\")\n",
        "print(f\"X_final_test (separate test set) shape: {X_final_test.shape}\")\n",
        "print(f\"y_final_test (separate test set) shape: {y_final_test.shape}\")\n",
        "\n",
        "print(\"\\nExample of final tokenized/padded data:\")\n",
        "if len(X_train) > 0:\n",
        "     print(f\"Input IDs (Train[0]): {X_train[0][:20]}...\")\n",
        "     print(f\"Target IDs (Train[0]): {y_train[0][:20]}...\")\n",
        "else:\n",
        "     print(\"Train data is empty after processing.\")"
      ],
      "metadata": {
        "id": "xsYIIChRmXbe",
        "colab": {
          "base_uri": "https://localhost:8080/"
        },
        "outputId": "08d4548c-f181-41c6-8c08-d355a58ea985"
      },
      "execution_count": 4,
      "outputs": [
        {
          "output_type": "stream",
          "name": "stdout",
          "text": [
            "Cleaning text in DataFrames...\n",
            "Text cleaning complete.\n",
            "Dropping rows with empty incorrect or corrected sentences after cleaning...\n",
            "- Dropped 63 rows from train.\n",
            "- Dropped 8 rows from eval.\n",
            "- Dropped 8 rows from test.\n",
            "\n",
            "Cleaned Train DataFrame head:\n",
            "                                           incorrect  \\\n",
            "0  lady’s mantle the herb helped preventing skin ...   \n",
            "1  spraring new ring collection that starts exclu...   \n",
            "2  the report credits delach for meeting city goa...   \n",
            "3  does i need to offer visa for layover at beiijing   \n",
            "4  sep   · took walk around deer island today com...   \n",
            "\n",
            "                                           corrected  \n",
            "0  lady’s mantle this herb helps prevent skin fro...  \n",
            "1                             new earring collection  \n",
            "2   the report credits delach for meeting city goals  \n",
            "3    do i need to apply visa for layover at beiijing  \n",
            "4                                               sep   \n",
            "\n",
            "Adding SOS/EOS tokens to corrected sentences...\n",
            "Special tokens added.\n",
            "\n",
            "Train DataFrame head with special tokens in 'corrected':\n",
            "                                           incorrect  \\\n",
            "0  lady’s mantle the herb helped preventing skin ...   \n",
            "1  spraring new ring collection that starts exclu...   \n",
            "2  the report credits delach for meeting city goa...   \n",
            "3  does i need to offer visa for layover at beiijing   \n",
            "4  sep   · took walk around deer island today com...   \n",
            "\n",
            "                                           corrected  \n",
            "0  sos lady’s mantle this herb helps prevent skin...  \n",
            "1                     sos new earring collection eos  \n",
            "2  sos the report credits delach for meeting city...  \n",
            "3  sos do i need to apply visa for layover at bei...  \n",
            "4                                       sos sep  eos  \n",
            "\n",
            "Building Keras Tokenizer vocabulary from 99842 sentences...\n",
            "Tokenizer fitted vocabulary size (including OOV): 73817\n",
            "Final VOCAB_SIZE for model (includes padding): 73818\n",
            "\n",
            "Calculating max sequence lengths...\n",
            "Calculated max sequence length across all data: 949\n",
            "Using a fixed max length for padding of: 128\n",
            "\n",
            "Tokenization and padding complete.\n",
            "\n",
            "Final Data Parameters:\n",
            "Vocabulary Size (VOCAB_SIZE): 73818\n",
            "Max Input Sequence Length (MAX_INPUT_LEN): 128\n",
            "Max Target Sequence Length (MAX_TARGET_LEN): 128\n",
            "\n",
            "Shapes of processed data for Keras:\n",
            "X_train shape: (39937, 128)\n",
            "y_train shape: (39937, 128)\n",
            "X_test (used for validation during training) shape: (4992, 128)\n",
            "y_test (used for validation during training) shape: (4992, 128)\n",
            "X_final_test (separate test set) shape: (4992, 128)\n",
            "y_final_test (separate test set) shape: (4992, 128)\n",
            "\n",
            "Example of final tokenized/padded data:\n",
            "Input IDs (Train[0]): [    1 19773     2  9592   831  2711  1195    24 19774     0     0     0\n",
            "     0     0     0     0     0     0     0     0]...\n",
            "Target IDs (Train[0]): [    3     1 19773    19  9592   612   513  1195    24 19774     4     0\n",
            "     0     0     0     0     0     0     0     0]...\n"
          ]
        }
      ]
    },
    {
      "cell_type": "markdown",
      "source": [
        "## Model Building"
      ],
      "metadata": {
        "id": "q3e9R1hkn_NR"
      }
    },
    {
      "cell_type": "code",
      "source": [
        "# Import Required Modules\n",
        "from tensorflow.keras.layers import Input, LSTM, Bidirectional, Embedding, Concatenate, Dense, Layer\n",
        "from tensorflow.keras.models import Model\n",
        "import tensorflow.keras.backend as K"
      ],
      "metadata": {
        "id": "A_xPgSd2nYB4"
      },
      "execution_count": 5,
      "outputs": []
    },
    {
      "cell_type": "code",
      "source": [
        "#Step 1: Define the Custom Attention Layer\n",
        "class AttentionLayer(Layer):\n",
        "    \"\"\"\n",
        "    Implements Bahdanau-style attention mechanism.\n",
        "    It aligns decoder outputs with encoder outputs and returns a context vector.\n",
        "    \"\"\"\n",
        "    def __init__(self, **kwargs):\n",
        "        super(AttentionLayer, self).__init__(**kwargs)\n",
        "\n",
        "    def call(self, inputs):\n",
        "        encoder_outputs, decoder_outputs = inputs\n",
        "\n",
        "        score = K.batch_dot(decoder_outputs, encoder_outputs, axes=[2, 2])\n",
        "\n",
        "        attention_weights = K.softmax(score, axis=-1)\n",
        "        context_vector = K.batch_dot(attention_weights, encoder_outputs, axes=[2,1])\n",
        "\n",
        "        return context_vector, attention_weights"
      ],
      "metadata": {
        "id": "ZQ6n4L0doCW2"
      },
      "execution_count": 6,
      "outputs": []
    },
    {
      "cell_type": "code",
      "source": [
        "# Input for the encoder (Input sentences)\n",
        "\n",
        "encoder_inputs = Input(shape=(MAX_INPUT_LEN,), name='encoder_inputs')\n",
        "\n",
        "# Embedding for the encoder\n",
        "embedding_dim = 1024\n",
        "enc_emb = Embedding(input_dim=VOCAB_SIZE, output_dim=embedding_dim, name='encoder_embedding')(encoder_inputs)\n",
        "\n",
        "# Bidirectional LSTM for encoder\n",
        "lstm_units = 256\n",
        "enc_lstm = Bidirectional(LSTM(lstm_units, return_sequences=True, return_state=True), name='bidirectional_encoder')\n",
        "encoder_outputs, forward_h, forward_c, backward_h, backward_c = enc_lstm(enc_emb)\n",
        "\n",
        "state_h = Concatenate(name='encoder_state_h')([forward_h, backward_h])\n",
        "state_c = Concatenate(name='encoder_state_c')([forward_c, backward_c])\n",
        "encoder_states = [state_h, state_c]\n",
        "\n",
        "print(\"Encoder part defined.\")"
      ],
      "metadata": {
        "id": "VfXZE5UxoTt8",
        "colab": {
          "base_uri": "https://localhost:8080/"
        },
        "outputId": "70f1022c-2ccd-4b82-e118-5368e7a47c4c"
      },
      "execution_count": 7,
      "outputs": [
        {
          "output_type": "stream",
          "name": "stdout",
          "text": [
            "Encoder part defined.\n"
          ]
        }
      ]
    },
    {
      "cell_type": "code",
      "source": [
        "# Input for the decoder\n",
        "decoder_inputs = Input(shape=(None,), name='decoder_inputs')\n",
        "\n",
        "# Embedding for the decoder\n",
        "# Use the same vocabulary size and embedding dimension as the encoder\n",
        "dec_emb_layer = Embedding(input_dim=VOCAB_SIZE, output_dim=embedding_dim, name='decoder_embedding')\n",
        "dec_emb = dec_emb_layer(decoder_inputs)\n",
        "\n",
        "# Decoder LSTM (512 units to match encoder's concatenated state)\n",
        "\n",
        "decoder_lstm = LSTM(512, return_sequences=True, return_state=True, name='decoder_lstm')\n",
        "decoder_outputs, _, _ = decoder_lstm(dec_emb, initial_state=encoder_states)\n",
        "\n",
        "print(\"Decoder part defined.\")"
      ],
      "metadata": {
        "id": "ndRPaexaof7V",
        "colab": {
          "base_uri": "https://localhost:8080/"
        },
        "outputId": "4a741ce1-57e8-457e-af35-d33d597dbf7d"
      },
      "execution_count": 8,
      "outputs": [
        {
          "output_type": "stream",
          "name": "stdout",
          "text": [
            "Decoder part defined.\n"
          ]
        }
      ]
    },
    {
      "cell_type": "code",
      "source": [
        " # Apply Attention\n",
        "attention_layer = AttentionLayer(name='attention_layer')\n",
        "attention_output, attention_weights = attention_layer([encoder_outputs, decoder_outputs])\n",
        "\n",
        "# Concatenate attention output with decoder LSTM output\n",
        "decoder_concat_input = Concatenate(axis=-1, name='concat_layer')([decoder_outputs, attention_output])"
      ],
      "metadata": {
        "id": "el4EfAjYokt0"
      },
      "execution_count": 9,
      "outputs": []
    },
    {
      "cell_type": "code",
      "source": [
        "# Final Dense layer with softmax activation to predict next word\n",
        "decoder_dense = Dense(VOCAB_SIZE, activation='softmax', name='output_layer')\n",
        "decoder_outputs = decoder_dense(decoder_concat_input)\n",
        "\n",
        "print(\"Output layer defined.\")"
      ],
      "metadata": {
        "id": "cmxEjyGQoqzE",
        "colab": {
          "base_uri": "https://localhost:8080/"
        },
        "outputId": "d145ee77-4635-43f2-b6e9-84bc4145b197"
      },
      "execution_count": 10,
      "outputs": [
        {
          "output_type": "stream",
          "name": "stdout",
          "text": [
            "Output layer defined.\n"
          ]
        }
      ]
    },
    {
      "cell_type": "code",
      "source": [
        "# Define the complete model\n",
        "model = Model([encoder_inputs, decoder_inputs], decoder_outputs)\n",
        "model.compile(optimizer='adam', loss='sparse_categorical_crossentropy', metrics=['accuracy'])\n",
        "\n",
        "# Print model summary to verify\n",
        "model.summary()"
      ],
      "metadata": {
        "colab": {
          "base_uri": "https://localhost:8080/",
          "height": 794
        },
        "id": "39gxcFpBotXY",
        "outputId": "dd64a31f-96cc-47f3-e621-4e20137a54c9"
      },
      "execution_count": 11,
      "outputs": [
        {
          "output_type": "display_data",
          "data": {
            "text/plain": [
              "\u001b[1mModel: \"functional\"\u001b[0m\n"
            ],
            "text/html": [
              "<pre style=\"white-space:pre;overflow-x:auto;line-height:normal;font-family:Menlo,'DejaVu Sans Mono',consolas,'Courier New',monospace\"><span style=\"font-weight: bold\">Model: \"functional\"</span>\n",
              "</pre>\n"
            ]
          },
          "metadata": {}
        },
        {
          "output_type": "display_data",
          "data": {
            "text/plain": [
              "┏━━━━━━━━━━━━━━━━━━━━━┳━━━━━━━━━━━━━━━━━━━┳━━━━━━━━━━━━┳━━━━━━━━━━━━━━━━━━━┓\n",
              "┃\u001b[1m \u001b[0m\u001b[1mLayer (type)       \u001b[0m\u001b[1m \u001b[0m┃\u001b[1m \u001b[0m\u001b[1mOutput Shape     \u001b[0m\u001b[1m \u001b[0m┃\u001b[1m \u001b[0m\u001b[1m   Param #\u001b[0m\u001b[1m \u001b[0m┃\u001b[1m \u001b[0m\u001b[1mConnected to     \u001b[0m\u001b[1m \u001b[0m┃\n",
              "┡━━━━━━━━━━━━━━━━━━━━━╇━━━━━━━━━━━━━━━━━━━╇━━━━━━━━━━━━╇━━━━━━━━━━━━━━━━━━━┩\n",
              "│ encoder_inputs      │ (\u001b[38;5;45mNone\u001b[0m, \u001b[38;5;34m128\u001b[0m)       │          \u001b[38;5;34m0\u001b[0m │ -                 │\n",
              "│ (\u001b[38;5;33mInputLayer\u001b[0m)        │                   │            │                   │\n",
              "├─────────────────────┼───────────────────┼────────────┼───────────────────┤\n",
              "│ encoder_embedding   │ (\u001b[38;5;45mNone\u001b[0m, \u001b[38;5;34m128\u001b[0m, \u001b[38;5;34m1024\u001b[0m) │ \u001b[38;5;34m75,589,632\u001b[0m │ encoder_inputs[\u001b[38;5;34m0\u001b[0m… │\n",
              "│ (\u001b[38;5;33mEmbedding\u001b[0m)         │                   │            │                   │\n",
              "├─────────────────────┼───────────────────┼────────────┼───────────────────┤\n",
              "│ decoder_inputs      │ (\u001b[38;5;45mNone\u001b[0m, \u001b[38;5;45mNone\u001b[0m)      │          \u001b[38;5;34m0\u001b[0m │ -                 │\n",
              "│ (\u001b[38;5;33mInputLayer\u001b[0m)        │                   │            │                   │\n",
              "├─────────────────────┼───────────────────┼────────────┼───────────────────┤\n",
              "│ bidirectional_enco… │ [(\u001b[38;5;45mNone\u001b[0m, \u001b[38;5;34m128\u001b[0m,      │  \u001b[38;5;34m2,623,488\u001b[0m │ encoder_embeddin… │\n",
              "│ (\u001b[38;5;33mBidirectional\u001b[0m)     │ \u001b[38;5;34m512\u001b[0m), (\u001b[38;5;45mNone\u001b[0m,      │            │                   │\n",
              "│                     │ \u001b[38;5;34m256\u001b[0m), (\u001b[38;5;45mNone\u001b[0m,      │            │                   │\n",
              "│                     │ \u001b[38;5;34m256\u001b[0m), (\u001b[38;5;45mNone\u001b[0m,      │            │                   │\n",
              "│                     │ \u001b[38;5;34m256\u001b[0m), (\u001b[38;5;45mNone\u001b[0m,      │            │                   │\n",
              "│                     │ \u001b[38;5;34m256\u001b[0m)]             │            │                   │\n",
              "├─────────────────────┼───────────────────┼────────────┼───────────────────┤\n",
              "│ decoder_embedding   │ (\u001b[38;5;45mNone\u001b[0m, \u001b[38;5;45mNone\u001b[0m,      │ \u001b[38;5;34m75,589,632\u001b[0m │ decoder_inputs[\u001b[38;5;34m0\u001b[0m… │\n",
              "│ (\u001b[38;5;33mEmbedding\u001b[0m)         │ \u001b[38;5;34m1024\u001b[0m)             │            │                   │\n",
              "├─────────────────────┼───────────────────┼────────────┼───────────────────┤\n",
              "│ encoder_state_h     │ (\u001b[38;5;45mNone\u001b[0m, \u001b[38;5;34m512\u001b[0m)       │          \u001b[38;5;34m0\u001b[0m │ bidirectional_en… │\n",
              "│ (\u001b[38;5;33mConcatenate\u001b[0m)       │                   │            │ bidirectional_en… │\n",
              "├─────────────────────┼───────────────────┼────────────┼───────────────────┤\n",
              "│ encoder_state_c     │ (\u001b[38;5;45mNone\u001b[0m, \u001b[38;5;34m512\u001b[0m)       │          \u001b[38;5;34m0\u001b[0m │ bidirectional_en… │\n",
              "│ (\u001b[38;5;33mConcatenate\u001b[0m)       │                   │            │ bidirectional_en… │\n",
              "├─────────────────────┼───────────────────┼────────────┼───────────────────┤\n",
              "│ decoder_lstm (\u001b[38;5;33mLSTM\u001b[0m) │ [(\u001b[38;5;45mNone\u001b[0m, \u001b[38;5;45mNone\u001b[0m,     │  \u001b[38;5;34m3,147,776\u001b[0m │ decoder_embeddin… │\n",
              "│                     │ \u001b[38;5;34m512\u001b[0m), (\u001b[38;5;45mNone\u001b[0m,      │            │ encoder_state_h[\u001b[38;5;34m…\u001b[0m │\n",
              "│                     │ \u001b[38;5;34m512\u001b[0m), (\u001b[38;5;45mNone\u001b[0m,      │            │ encoder_state_c[\u001b[38;5;34m…\u001b[0m │\n",
              "│                     │ \u001b[38;5;34m512\u001b[0m)]             │            │                   │\n",
              "├─────────────────────┼───────────────────┼────────────┼───────────────────┤\n",
              "│ attention_layer     │ [(\u001b[38;5;45mNone\u001b[0m, \u001b[38;5;45mNone\u001b[0m,     │          \u001b[38;5;34m0\u001b[0m │ bidirectional_en… │\n",
              "│ (\u001b[38;5;33mAttentionLayer\u001b[0m)    │ \u001b[38;5;34m512\u001b[0m), (\u001b[38;5;45mNone\u001b[0m,      │            │ decoder_lstm[\u001b[38;5;34m0\u001b[0m][\u001b[38;5;34m…\u001b[0m │\n",
              "│                     │ \u001b[38;5;45mNone\u001b[0m, \u001b[38;5;34m128\u001b[0m)]       │            │                   │\n",
              "├─────────────────────┼───────────────────┼────────────┼───────────────────┤\n",
              "│ concat_layer        │ (\u001b[38;5;45mNone\u001b[0m, \u001b[38;5;45mNone\u001b[0m,      │          \u001b[38;5;34m0\u001b[0m │ decoder_lstm[\u001b[38;5;34m0\u001b[0m][\u001b[38;5;34m…\u001b[0m │\n",
              "│ (\u001b[38;5;33mConcatenate\u001b[0m)       │ \u001b[38;5;34m1024\u001b[0m)             │            │ attention_layer[\u001b[38;5;34m…\u001b[0m │\n",
              "├─────────────────────┼───────────────────┼────────────┼───────────────────┤\n",
              "│ output_layer        │ (\u001b[38;5;45mNone\u001b[0m, \u001b[38;5;45mNone\u001b[0m,      │ \u001b[38;5;34m75,663,450\u001b[0m │ concat_layer[\u001b[38;5;34m0\u001b[0m][\u001b[38;5;34m…\u001b[0m │\n",
              "│ (\u001b[38;5;33mDense\u001b[0m)             │ \u001b[38;5;34m73818\u001b[0m)            │            │                   │\n",
              "└─────────────────────┴───────────────────┴────────────┴───────────────────┘\n"
            ],
            "text/html": [
              "<pre style=\"white-space:pre;overflow-x:auto;line-height:normal;font-family:Menlo,'DejaVu Sans Mono',consolas,'Courier New',monospace\">┏━━━━━━━━━━━━━━━━━━━━━┳━━━━━━━━━━━━━━━━━━━┳━━━━━━━━━━━━┳━━━━━━━━━━━━━━━━━━━┓\n",
              "┃<span style=\"font-weight: bold\"> Layer (type)        </span>┃<span style=\"font-weight: bold\"> Output Shape      </span>┃<span style=\"font-weight: bold\">    Param # </span>┃<span style=\"font-weight: bold\"> Connected to      </span>┃\n",
              "┡━━━━━━━━━━━━━━━━━━━━━╇━━━━━━━━━━━━━━━━━━━╇━━━━━━━━━━━━╇━━━━━━━━━━━━━━━━━━━┩\n",
              "│ encoder_inputs      │ (<span style=\"color: #00d7ff; text-decoration-color: #00d7ff\">None</span>, <span style=\"color: #00af00; text-decoration-color: #00af00\">128</span>)       │          <span style=\"color: #00af00; text-decoration-color: #00af00\">0</span> │ -                 │\n",
              "│ (<span style=\"color: #0087ff; text-decoration-color: #0087ff\">InputLayer</span>)        │                   │            │                   │\n",
              "├─────────────────────┼───────────────────┼────────────┼───────────────────┤\n",
              "│ encoder_embedding   │ (<span style=\"color: #00d7ff; text-decoration-color: #00d7ff\">None</span>, <span style=\"color: #00af00; text-decoration-color: #00af00\">128</span>, <span style=\"color: #00af00; text-decoration-color: #00af00\">1024</span>) │ <span style=\"color: #00af00; text-decoration-color: #00af00\">75,589,632</span> │ encoder_inputs[<span style=\"color: #00af00; text-decoration-color: #00af00\">0</span>… │\n",
              "│ (<span style=\"color: #0087ff; text-decoration-color: #0087ff\">Embedding</span>)         │                   │            │                   │\n",
              "├─────────────────────┼───────────────────┼────────────┼───────────────────┤\n",
              "│ decoder_inputs      │ (<span style=\"color: #00d7ff; text-decoration-color: #00d7ff\">None</span>, <span style=\"color: #00d7ff; text-decoration-color: #00d7ff\">None</span>)      │          <span style=\"color: #00af00; text-decoration-color: #00af00\">0</span> │ -                 │\n",
              "│ (<span style=\"color: #0087ff; text-decoration-color: #0087ff\">InputLayer</span>)        │                   │            │                   │\n",
              "├─────────────────────┼───────────────────┼────────────┼───────────────────┤\n",
              "│ bidirectional_enco… │ [(<span style=\"color: #00d7ff; text-decoration-color: #00d7ff\">None</span>, <span style=\"color: #00af00; text-decoration-color: #00af00\">128</span>,      │  <span style=\"color: #00af00; text-decoration-color: #00af00\">2,623,488</span> │ encoder_embeddin… │\n",
              "│ (<span style=\"color: #0087ff; text-decoration-color: #0087ff\">Bidirectional</span>)     │ <span style=\"color: #00af00; text-decoration-color: #00af00\">512</span>), (<span style=\"color: #00d7ff; text-decoration-color: #00d7ff\">None</span>,      │            │                   │\n",
              "│                     │ <span style=\"color: #00af00; text-decoration-color: #00af00\">256</span>), (<span style=\"color: #00d7ff; text-decoration-color: #00d7ff\">None</span>,      │            │                   │\n",
              "│                     │ <span style=\"color: #00af00; text-decoration-color: #00af00\">256</span>), (<span style=\"color: #00d7ff; text-decoration-color: #00d7ff\">None</span>,      │            │                   │\n",
              "│                     │ <span style=\"color: #00af00; text-decoration-color: #00af00\">256</span>), (<span style=\"color: #00d7ff; text-decoration-color: #00d7ff\">None</span>,      │            │                   │\n",
              "│                     │ <span style=\"color: #00af00; text-decoration-color: #00af00\">256</span>)]             │            │                   │\n",
              "├─────────────────────┼───────────────────┼────────────┼───────────────────┤\n",
              "│ decoder_embedding   │ (<span style=\"color: #00d7ff; text-decoration-color: #00d7ff\">None</span>, <span style=\"color: #00d7ff; text-decoration-color: #00d7ff\">None</span>,      │ <span style=\"color: #00af00; text-decoration-color: #00af00\">75,589,632</span> │ decoder_inputs[<span style=\"color: #00af00; text-decoration-color: #00af00\">0</span>… │\n",
              "│ (<span style=\"color: #0087ff; text-decoration-color: #0087ff\">Embedding</span>)         │ <span style=\"color: #00af00; text-decoration-color: #00af00\">1024</span>)             │            │                   │\n",
              "├─────────────────────┼───────────────────┼────────────┼───────────────────┤\n",
              "│ encoder_state_h     │ (<span style=\"color: #00d7ff; text-decoration-color: #00d7ff\">None</span>, <span style=\"color: #00af00; text-decoration-color: #00af00\">512</span>)       │          <span style=\"color: #00af00; text-decoration-color: #00af00\">0</span> │ bidirectional_en… │\n",
              "│ (<span style=\"color: #0087ff; text-decoration-color: #0087ff\">Concatenate</span>)       │                   │            │ bidirectional_en… │\n",
              "├─────────────────────┼───────────────────┼────────────┼───────────────────┤\n",
              "│ encoder_state_c     │ (<span style=\"color: #00d7ff; text-decoration-color: #00d7ff\">None</span>, <span style=\"color: #00af00; text-decoration-color: #00af00\">512</span>)       │          <span style=\"color: #00af00; text-decoration-color: #00af00\">0</span> │ bidirectional_en… │\n",
              "│ (<span style=\"color: #0087ff; text-decoration-color: #0087ff\">Concatenate</span>)       │                   │            │ bidirectional_en… │\n",
              "├─────────────────────┼───────────────────┼────────────┼───────────────────┤\n",
              "│ decoder_lstm (<span style=\"color: #0087ff; text-decoration-color: #0087ff\">LSTM</span>) │ [(<span style=\"color: #00d7ff; text-decoration-color: #00d7ff\">None</span>, <span style=\"color: #00d7ff; text-decoration-color: #00d7ff\">None</span>,     │  <span style=\"color: #00af00; text-decoration-color: #00af00\">3,147,776</span> │ decoder_embeddin… │\n",
              "│                     │ <span style=\"color: #00af00; text-decoration-color: #00af00\">512</span>), (<span style=\"color: #00d7ff; text-decoration-color: #00d7ff\">None</span>,      │            │ encoder_state_h[<span style=\"color: #00af00; text-decoration-color: #00af00\">…</span> │\n",
              "│                     │ <span style=\"color: #00af00; text-decoration-color: #00af00\">512</span>), (<span style=\"color: #00d7ff; text-decoration-color: #00d7ff\">None</span>,      │            │ encoder_state_c[<span style=\"color: #00af00; text-decoration-color: #00af00\">…</span> │\n",
              "│                     │ <span style=\"color: #00af00; text-decoration-color: #00af00\">512</span>)]             │            │                   │\n",
              "├─────────────────────┼───────────────────┼────────────┼───────────────────┤\n",
              "│ attention_layer     │ [(<span style=\"color: #00d7ff; text-decoration-color: #00d7ff\">None</span>, <span style=\"color: #00d7ff; text-decoration-color: #00d7ff\">None</span>,     │          <span style=\"color: #00af00; text-decoration-color: #00af00\">0</span> │ bidirectional_en… │\n",
              "│ (<span style=\"color: #0087ff; text-decoration-color: #0087ff\">AttentionLayer</span>)    │ <span style=\"color: #00af00; text-decoration-color: #00af00\">512</span>), (<span style=\"color: #00d7ff; text-decoration-color: #00d7ff\">None</span>,      │            │ decoder_lstm[<span style=\"color: #00af00; text-decoration-color: #00af00\">0</span>][<span style=\"color: #00af00; text-decoration-color: #00af00\">…</span> │\n",
              "│                     │ <span style=\"color: #00d7ff; text-decoration-color: #00d7ff\">None</span>, <span style=\"color: #00af00; text-decoration-color: #00af00\">128</span>)]       │            │                   │\n",
              "├─────────────────────┼───────────────────┼────────────┼───────────────────┤\n",
              "│ concat_layer        │ (<span style=\"color: #00d7ff; text-decoration-color: #00d7ff\">None</span>, <span style=\"color: #00d7ff; text-decoration-color: #00d7ff\">None</span>,      │          <span style=\"color: #00af00; text-decoration-color: #00af00\">0</span> │ decoder_lstm[<span style=\"color: #00af00; text-decoration-color: #00af00\">0</span>][<span style=\"color: #00af00; text-decoration-color: #00af00\">…</span> │\n",
              "│ (<span style=\"color: #0087ff; text-decoration-color: #0087ff\">Concatenate</span>)       │ <span style=\"color: #00af00; text-decoration-color: #00af00\">1024</span>)             │            │ attention_layer[<span style=\"color: #00af00; text-decoration-color: #00af00\">…</span> │\n",
              "├─────────────────────┼───────────────────┼────────────┼───────────────────┤\n",
              "│ output_layer        │ (<span style=\"color: #00d7ff; text-decoration-color: #00d7ff\">None</span>, <span style=\"color: #00d7ff; text-decoration-color: #00d7ff\">None</span>,      │ <span style=\"color: #00af00; text-decoration-color: #00af00\">75,663,450</span> │ concat_layer[<span style=\"color: #00af00; text-decoration-color: #00af00\">0</span>][<span style=\"color: #00af00; text-decoration-color: #00af00\">…</span> │\n",
              "│ (<span style=\"color: #0087ff; text-decoration-color: #0087ff\">Dense</span>)             │ <span style=\"color: #00af00; text-decoration-color: #00af00\">73818</span>)            │            │                   │\n",
              "└─────────────────────┴───────────────────┴────────────┴───────────────────┘\n",
              "</pre>\n"
            ]
          },
          "metadata": {}
        },
        {
          "output_type": "display_data",
          "data": {
            "text/plain": [
              "\u001b[1m Total params: \u001b[0m\u001b[38;5;34m232,613,978\u001b[0m (887.35 MB)\n"
            ],
            "text/html": [
              "<pre style=\"white-space:pre;overflow-x:auto;line-height:normal;font-family:Menlo,'DejaVu Sans Mono',consolas,'Courier New',monospace\"><span style=\"font-weight: bold\"> Total params: </span><span style=\"color: #00af00; text-decoration-color: #00af00\">232,613,978</span> (887.35 MB)\n",
              "</pre>\n"
            ]
          },
          "metadata": {}
        },
        {
          "output_type": "display_data",
          "data": {
            "text/plain": [
              "\u001b[1m Trainable params: \u001b[0m\u001b[38;5;34m232,613,978\u001b[0m (887.35 MB)\n"
            ],
            "text/html": [
              "<pre style=\"white-space:pre;overflow-x:auto;line-height:normal;font-family:Menlo,'DejaVu Sans Mono',consolas,'Courier New',monospace\"><span style=\"font-weight: bold\"> Trainable params: </span><span style=\"color: #00af00; text-decoration-color: #00af00\">232,613,978</span> (887.35 MB)\n",
              "</pre>\n"
            ]
          },
          "metadata": {}
        },
        {
          "output_type": "display_data",
          "data": {
            "text/plain": [
              "\u001b[1m Non-trainable params: \u001b[0m\u001b[38;5;34m0\u001b[0m (0.00 B)\n"
            ],
            "text/html": [
              "<pre style=\"white-space:pre;overflow-x:auto;line-height:normal;font-family:Menlo,'DejaVu Sans Mono',consolas,'Courier New',monospace\"><span style=\"font-weight: bold\"> Non-trainable params: </span><span style=\"color: #00af00; text-decoration-color: #00af00\">0</span> (0.00 B)\n",
              "</pre>\n"
            ]
          },
          "metadata": {}
        }
      ]
    },
    {
      "cell_type": "code",
      "source": [
        "from tensorflow.keras.callbacks import ModelCheckpoint, EarlyStopping\n",
        "import os\n",
        "import numpy as np # Make sure numpy is imported\n",
        "\n",
        "\n",
        "save_dir = \"/content/drive/MyDrive/sentence_corrector\"\n",
        "os.makedirs(\"checkpoints\", exist_ok=True) # This creates a 'checkpoints' folder in the *Colab environment*, not Drive\n",
        "checkpoint_path = os.path.join(save_dir, \"checkpoints\", \"gec_simplifier_best_model.weights.h5\") # Save checkpoints to Drive\n",
        "\n",
        "# Ensure the directory for checkpoints in Drive exists\n",
        "os.makedirs(os.path.join(save_dir, \"checkpoints\"), exist_ok=True)\n",
        "\n",
        "\n",
        "checkpoint = ModelCheckpoint(checkpoint_path,\n",
        "                             monitor='val_accuracy',\n",
        "                             verbose=1, # Set verbose to see when checkpoints are saved\n",
        "                             save_best_only=True,\n",
        "                             save_weights_only=True)\n",
        "early_stopping = EarlyStopping(monitor='val_accuracy', patience=5, verbose=1)\n",
        "callbacks_list = [checkpoint, early_stopping] # Keep early stopping for now, helps if training converges quickly\n",
        "\n",
        "# Prepare training and validation data\n",
        "# These variables (X_train, y_train, X_test, y_test) should be available from Step 3\n",
        "encoder_input_data = X_train\n",
        "decoder_input_data = y_train[:, :-1] # Shifted target for decoder input\n",
        "decoder_target_data = y_train[:, 1:]  # Shifted target for loss calculation\n",
        "\n",
        "encoder_input_test = X_test          # Using validation set from Step 2 as test set for Keras training validation\n",
        "decoder_input_test = y_test[:, :-1]  # Shifted validation target for decoder input\n",
        "decoder_target_test = y_test[:, 1:]   # Shifted validation target for loss calculation\n",
        "\n",
        "\n",
        "# Train the model\n",
        "\n",
        "EPOCHS = 5\n",
        "BATCH_SIZE = 16\n",
        "\n",
        "\n",
        "\n",
        "print(f\"Starting training for {EPOCHS} epoch(s) with BATCH_SIZE={BATCH_SIZE}...\")\n",
        "\n",
        "history = model.fit([encoder_input_data, decoder_input_data], decoder_target_data,\n",
        "                    epochs=EPOCHS,\n",
        "                    batch_size=BATCH_SIZE,\n",
        "                    validation_data=([encoder_input_test, decoder_input_test], decoder_target_test),\n",
        "                    callbacks=callbacks_list)\n",
        "\n",
        "print(\"\\nTraining finished.\")\n",
        "\n",
        "# Save final model weights\n",
        "final_weights_save_path = os.path.join(save_dir, \"gec_simplifier_final_model.weights.h5\")\n",
        "model.save_weights(final_weights_save_path)"
      ],
      "metadata": {
        "colab": {
          "base_uri": "https://localhost:8080/"
        },
        "id": "IzkWyCZ3ovsJ",
        "outputId": "32346fce-b673-41e4-e999-ed50a5e0c365"
      },
      "execution_count": 13,
      "outputs": [
        {
          "output_type": "stream",
          "name": "stdout",
          "text": [
            "Starting training for 5 epoch(s) with BATCH_SIZE=16...\n",
            "Epoch 1/5\n",
            "\u001b[1m2497/2497\u001b[0m \u001b[32m━━━━━━━━━━━━━━━━━━━━\u001b[0m\u001b[37m\u001b[0m \u001b[1m0s\u001b[0m 119ms/step - accuracy: 0.9161 - loss: 0.7862\n",
            "Epoch 1: val_accuracy improved from -inf to 0.95781, saving model to /content/drive/MyDrive/sentence_corrector/checkpoints/gec_simplifier_best_model.weights.h5\n",
            "\u001b[1m2497/2497\u001b[0m \u001b[32m━━━━━━━━━━━━━━━━━━━━\u001b[0m\u001b[37m\u001b[0m \u001b[1m327s\u001b[0m 129ms/step - accuracy: 0.9161 - loss: 0.7861 - val_accuracy: 0.9578 - val_loss: 0.3308\n",
            "Epoch 2/5\n",
            "\u001b[1m2497/2497\u001b[0m \u001b[32m━━━━━━━━━━━━━━━━━━━━\u001b[0m\u001b[37m\u001b[0m \u001b[1m0s\u001b[0m 119ms/step - accuracy: 0.9648 - loss: 0.2613\n",
            "Epoch 2: val_accuracy improved from 0.95781 to 0.97238, saving model to /content/drive/MyDrive/sentence_corrector/checkpoints/gec_simplifier_best_model.weights.h5\n",
            "\u001b[1m2497/2497\u001b[0m \u001b[32m━━━━━━━━━━━━━━━━━━━━\u001b[0m\u001b[37m\u001b[0m \u001b[1m333s\u001b[0m 133ms/step - accuracy: 0.9648 - loss: 0.2613 - val_accuracy: 0.9724 - val_loss: 0.2139\n",
            "Epoch 3/5\n",
            "\u001b[1m2497/2497\u001b[0m \u001b[32m━━━━━━━━━━━━━━━━━━━━\u001b[0m\u001b[37m\u001b[0m \u001b[1m0s\u001b[0m 119ms/step - accuracy: 0.9785 - loss: 0.1365\n",
            "Epoch 3: val_accuracy improved from 0.97238 to 0.97404, saving model to /content/drive/MyDrive/sentence_corrector/checkpoints/gec_simplifier_best_model.weights.h5\n",
            "\u001b[1m2497/2497\u001b[0m \u001b[32m━━━━━━━━━━━━━━━━━━━━\u001b[0m\u001b[37m\u001b[0m \u001b[1m332s\u001b[0m 133ms/step - accuracy: 0.9785 - loss: 0.1365 - val_accuracy: 0.9740 - val_loss: 0.1965\n",
            "Epoch 4/5\n",
            "\u001b[1m2497/2497\u001b[0m \u001b[32m━━━━━━━━━━━━━━━━━━━━\u001b[0m\u001b[37m\u001b[0m \u001b[1m0s\u001b[0m 119ms/step - accuracy: 0.9842 - loss: 0.0876\n",
            "Epoch 4: val_accuracy did not improve from 0.97404\n",
            "\u001b[1m2497/2497\u001b[0m \u001b[32m━━━━━━━━━━━━━━━━━━━━\u001b[0m\u001b[37m\u001b[0m \u001b[1m312s\u001b[0m 125ms/step - accuracy: 0.9842 - loss: 0.0876 - val_accuracy: 0.9739 - val_loss: 0.1974\n",
            "Epoch 5/5\n",
            "\u001b[1m2497/2497\u001b[0m \u001b[32m━━━━━━━━━━━━━━━━━━━━\u001b[0m\u001b[37m\u001b[0m \u001b[1m0s\u001b[0m 119ms/step - accuracy: 0.9872 - loss: 0.0635\n",
            "Epoch 5: val_accuracy did not improve from 0.97404\n",
            "\u001b[1m2497/2497\u001b[0m \u001b[32m━━━━━━━━━━━━━━━━━━━━\u001b[0m\u001b[37m\u001b[0m \u001b[1m311s\u001b[0m 125ms/step - accuracy: 0.9872 - loss: 0.0635 - val_accuracy: 0.9734 - val_loss: 0.2032\n",
            "\n",
            "Training finished.\n"
          ]
        }
      ]
    },
    {
      "cell_type": "code",
      "source": [
        "import matplotlib.pyplot as plt\n",
        "\n",
        "# Plot training and validation loss\n",
        "plt.plot(history.history['loss'], label='Training Loss')\n",
        "plt.plot(history.history['val_loss'], label='Validation Loss')\n",
        "plt.title('Model Loss')\n",
        "plt.ylabel('Loss')\n",
        "plt.xlabel('Epoch')\n",
        "plt.legend()\n",
        "plt.show()\n",
        "\n",
        "# Plot training and validation accuracy\n",
        "plt.plot(history.history['accuracy'], label='Training Accuracy')\n",
        "plt.plot(history.history['val_accuracy'], label='Validation Accuracy')\n",
        "plt.title('Model Accuracy')\n",
        "plt.ylabel('Accuracy')\n",
        "plt.xlabel('Epoch')\n",
        "plt.legend()\n",
        "plt.show()"
      ],
      "metadata": {
        "id": "nMVFRuF6ruoM",
        "colab": {
          "base_uri": "https://localhost:8080/",
          "height": 927
        },
        "outputId": "4446e285-d62a-49a0-9fb9-ecf0b61ab27a"
      },
      "execution_count": 14,
      "outputs": [
        {
          "output_type": "display_data",
          "data": {
            "text/plain": [
              "<Figure size 640x480 with 1 Axes>"
            ],
            "image/png": "[encoded data removed]"
          },
          "metadata": {}
        },
        {
          "output_type": "display_data",
          "data": {
            "text/plain": [
              "<Figure size 640x480 with 1 Axes>"
            ],
            "image/png": "[encoded data removed]"
          },
          "metadata": {}
        }
      ]
    },
    {
      "cell_type": "markdown",
      "source": [
        "## Inference Model"
      ],
      "metadata": {
        "id": "E5ERH0Lfpk73"
      }
    },
    {
      "cell_type": "code",
      "source": [
        "# Recalculate max lengths from the data we used for training/validation\n",
        "\n",
        "max_eng_len = X_test.shape[1]\n",
        "max_tur_len = y_test.shape[1]\n",
        "\n",
        "# Update index/word mappings from the single Keras tokenizer\n",
        "eng_index_word = keras_tokenizer.index_word # Input language mappings\n",
        "eng_word_index = keras_tokenizer.word_index # Input language mappings\n",
        "\n",
        "tur_index_word = keras_tokenizer.index_word # Target language mappings (same as input language)\n",
        "tur_word_index = keras_tokenizer.word_index # Target language mappings (same as input language)\n",
        "\n",
        "# Also ensure VOCAB_SIZE is the global VOCAB_SIZE from Step 3g\n",
        "# VOCAB_SIZE = len(keras_tokenizer.word_index) + 1 # Already calculated in Step 3"
      ],
      "metadata": {
        "id": "7qAActCQpJxm"
      },
      "execution_count": 15,
      "outputs": []
    },
    {
      "cell_type": "code",
      "source": [
        "\n",
        "if 'X_test' in globals() and 'y_test' in globals():\n",
        "     max_eng_len_check = X_test.shape[1]\n",
        "     max_tur_len_check = y_test.shape[1]\n",
        "     # Verify they match the global MAX_ variables\n",
        "     if max_eng_len_check != MAX_INPUT_LEN or max_tur_len_check != MAX_TARGET_LEN:\n",
        "          print(\"Warning: Data shapes do not match global MAX_LEN variables!\")\n",
        "          print(f\"X_test shape: {X_test.shape}, y_test shape: {y_test.shape}\")\n",
        "          print(f\"Global MAX_INPUT_LEN: {MAX_INPUT_LEN}, MAX_TARGET_LEN: {MAX_TARGET_LEN}\")\n",
        "     # Use the global variables for model definition, they should be correct from Step 3\n",
        "     # max_eng_len = MAX_INPUT_LEN\n",
        "     # max_tur_len = MAX_TARGET_LEN # Not directly used in inference model inputs definition below, but good to know\n",
        "else:\n",
        "     print(\"Error: X_test or y_test not found. Cannot verify max lengths for inference model.\")\n",
        "     # Need to make sure the model definition below uses MAX_INPUT_LEN which should be correct from Step 3\n",
        "     # If MAX_INPUT_LEN is also not defined, you must go back and run Step 3.\n",
        "\n",
        "\n",
        "# --- Encoder Inference Model ---\n",
        "# This model takes the input sequence and outputs the final encoder states.\n",
        "# Reuse the layers from the training model definition (they should be available if you ran Step 4).\n",
        "encoder_model = Model(\n",
        "    inputs=encoder_inputs, # The input layer defined in Step 4\n",
        "    outputs=[encoder_outputs, state_h, state_c] # Outputs from Step 4\n",
        ")\n",
        "print(\"Encoder inference model defined.\")\n",
        "\n",
        "\n",
        "\n",
        "# Inputs for the decoder inference model\n",
        "decoder_inputs_inf = Input(shape=(1,), name='decoder_word_input') # Takes one token at a time\n",
        "decoder_state_input_h = Input(shape=(512,), name='decoder_input_h') # Takes previous hidden state\n",
        "decoder_state_input_c = Input(shape=(512,), name='decoder_input_c') # Takes previous cell state\n",
        "\n",
        "decoder_hidden_state_input = Input(shape=(MAX_INPUT_LEN, 512), name='encoder_outputs_input')\n",
        "\n",
        "\n",
        "dec_emb_inf = dec_emb_layer(decoder_inputs_inf)\n",
        "\n",
        "decoder_outputs_inf, state_h_inf, state_c_inf = decoder_lstm(\n",
        "    dec_emb_inf, initial_state=[decoder_state_input_h, decoder_state_input_c]\n",
        ")\n",
        "\n",
        "# Apply Attention\n",
        "attention_output_inf, attention_weights_inf = attention_layer(\n",
        "    [decoder_hidden_state_input, decoder_outputs_inf]) # Inputs are encoder outputs and current decoder output\n",
        "\n",
        "# Concatenate attention output with decoder LSTM output\n",
        "decoder_concat_inf = Concatenate(axis=-1)([decoder_outputs_inf, attention_output_inf])\n",
        "\n",
        "# Final Dense layer to predict next word\n",
        "decoder_outputs_final = decoder_dense(decoder_concat_inf)\n",
        "\n",
        "# Define the complete decoder inference model\n",
        "decoder_model = Model(\n",
        "    inputs=[decoder_inputs_inf, decoder_hidden_state_input, decoder_state_input_h, decoder_state_input_c],\n",
        "    outputs=[decoder_outputs_final, state_h_inf, state_c_inf, attention_weights_inf] # Output next token probabilities, new states, and attention\n",
        ")\n",
        "print(\"Decoder inference model defined.\")\n",
        "\n",
        "print(\"\\nKeras Inference models built.\")"
      ],
      "metadata": {
        "colab": {
          "base_uri": "https://localhost:8080/"
        },
        "id": "_m0wJuLPmI3-",
        "outputId": "0dc0b36d-279f-4c31-9d84-e4f4fda5df33"
      },
      "execution_count": 16,
      "outputs": [
        {
          "output_type": "stream",
          "name": "stdout",
          "text": [
            "Encoder inference model defined.\n",
            "Decoder inference model defined.\n",
            "\n",
            "Keras Inference models built.\n"
          ]
        }
      ]
    },
    {
      "cell_type": "markdown",
      "source": [
        "##prediction Model"
      ],
      "metadata": {
        "id": "V_Lj2DKOpmgb"
      }
    },
    {
      "cell_type": "code",
      "source": [
        "word_to_index = keras_tokenizer.word_index\n",
        "index_to_word = keras_tokenizer.index_word\n",
        "\n",
        "#  start and end token IDs\n",
        "sos_token_id = word_to_index.get('sos')\n",
        "eos_token_id = word_to_index.get('eos')\n",
        "#  padding token ID as 0\n",
        "pad_token_id = 0\n",
        "\n",
        "\n",
        "\n",
        "\n",
        "def clean_input_text_for_prediction(text):\n",
        "    # Apply the same cleaning as training data\n",
        "    text = \" \".join(text.split())\n",
        "    text = text.lower()\n",
        "    translator = str.maketrans('', '', string.punctuation + string.digits)\n",
        "    text = text.translate(translator)\n",
        "    return text\n",
        "\n",
        "\n",
        "def get_predicted_sentence_with_attention(input_raw_text):\n",
        "    # 1. Clean the input text\n",
        "    input_cleaned = clean_input_text_for_prediction(input_raw_text)\n",
        "\n",
        "    # 2. Tokenize and pad the input sequence\n",
        "    input_sequence = keras_tokenizer.texts_to_sequences([input_cleaned])\n",
        "    input_padded = pad_sequences(input_sequence, maxlen=MAX_INPUT_LEN, padding='post')\n",
        "\n",
        "    # 3. Get encoder output and states\n",
        "    # encoder_model expects batch size 1 for a single input\n",
        "    enc_output, enc_h, enc_c = encoder_model.predict(input_padded)\n",
        "\n",
        "    # 4. Initialize decoder input and states\n",
        "    # Start with the SOS token for the target sequence\n",
        "    target_seq = np.zeros((1, 1))\n",
        "    target_seq[0, 0] = sos_token_id # Use the ID of the 'sos' token\n",
        "\n",
        "    # Initialize decoder states with encoder states\n",
        "    states_values = [enc_h, enc_c]\n",
        "\n",
        "    decoded_sentence = []\n",
        "    attention_weights_list = []\n",
        "    stop_condition = False\n",
        "    max_decoder_length = MAX_TARGET_LEN # Prevent infinite loops\n",
        "\n",
        "    # 5. Loop for decoding\n",
        "    while not stop_condition:\n",
        "        # Predict next token, get new states and attention weights\n",
        "        output_tokens, h, c, attn_weights = decoder_model.predict(\n",
        "            [target_seq, enc_output, states_values[0], states_values[1]])\n",
        "\n",
        "        # Get the most likely token ID\n",
        "        sampled_token_index = np.argmax(output_tokens[0, -1, :])\n",
        "\n",
        "        # 6. Decode and check for EOS or max length\n",
        "        if sampled_token_index == eos_token_id or len(decoded_sentence) >= max_decoder_length:\n",
        "             # Stop condition met (generated EOS or reached max length)\n",
        "            stop_condition = True\n",
        "        else:\n",
        "            # Append the decoded word\n",
        "            sampled_word = index_to_word.get(sampled_token_index, '<unk>')\n",
        "            decoded_sentence.append(sampled_word)\n",
        "\n",
        "\n",
        "            attention_weights_list.append(attn_weights[0, 0])\n",
        "\n",
        "        # 7. Update decoder input and states for the next time step\n",
        "        # The input token for the next step is the token just generated\n",
        "        target_seq = np.zeros((1, 1))\n",
        "        target_seq[0, 0] = sampled_token_index\n",
        "\n",
        "        # Update states\n",
        "        states_values = [h, c]\n",
        "\n",
        "    # Return the decoded sentence as a string\n",
        "    return ' '.join(decoded_sentence), np.array(attention_weights_list)\n",
        "\n",
        "\n",
        "# --- Test the prediction function ---\n",
        "# Pick a test sample from your separate test set (X_final_test, y_final_test)\n",
        "if len(X_final_test) > 0:\n",
        "    # Initialize variables with default values\n",
        "    original_input_raw = \"Test input\"\n",
        "    original_target_raw = \"Test target\"\n",
        "\n",
        "    if 'eval_df_cleaned_input' in globals() and len(eval_df_cleaned_input) > 0:\n",
        "         sample_index = np.random.randint(0, len(eval_df_cleaned_input))\n",
        "         original_input_raw = eval_df_cleaned_input['incorrect'].iloc[sample_index]\n",
        "         original_target_raw = eval_df_cleaned_input['corrected'].iloc[sample_index]\n",
        "\n",
        "    print(f\"\\nTesting prediction function with sample input:\")\n",
        "    print(f\"Original Input: {original_input_raw}\")\n",
        "    print(f\"Actual Corrected: {original_target_raw}\")\n",
        "\n",
        "\n",
        "    predicted_sentence, attention_matrix = get_predicted_sentence_with_attention(original_input_raw)\n",
        "\n",
        "    print(f\"\\nPredicted Corrected: {predicted_sentence}\")\n",
        "\n",
        "else:\n",
        "    print(\"\\nX_final_test is empty, cannot test prediction function.\")"
      ],
      "metadata": {
        "colab": {
          "base_uri": "https://localhost:8080/"
        },
        "id": "nkw8HDGXmbKK",
        "outputId": "ca3a488d-e78b-4091-f4d2-581d1731c790"
      },
      "execution_count": 19,
      "outputs": [
        {
          "output_type": "stream",
          "name": "stdout",
          "text": [
            "\n",
            "Testing prediction function with sample input:\n",
            "Original Input: Contacting the Recording Division at 425-388-3483 some additional questions.\n",
            "Actual Corrected: Contact the Recording Division at 425-388-3483 with additional questions.\n",
            "\u001b[1m1/1\u001b[0m \u001b[32m━━━━━━━━━━━━━━━━━━━━\u001b[0m\u001b[37m\u001b[0m \u001b[1m0s\u001b[0m 210ms/step\n",
            "\u001b[1m1/1\u001b[0m \u001b[32m━━━━━━━━━━━━━━━━━━━━\u001b[0m\u001b[37m\u001b[0m \u001b[1m0s\u001b[0m 173ms/step\n",
            "\u001b[1m1/1\u001b[0m \u001b[32m━━━━━━━━━━━━━━━━━━━━\u001b[0m\u001b[37m\u001b[0m \u001b[1m0s\u001b[0m 39ms/step\n",
            "\u001b[1m1/1\u001b[0m \u001b[32m━━━━━━━━━━━━━━━━━━━━\u001b[0m\u001b[37m\u001b[0m \u001b[1m0s\u001b[0m 39ms/step\n",
            "\u001b[1m1/1\u001b[0m \u001b[32m━━━━━━━━━━━━━━━━━━━━\u001b[0m\u001b[37m\u001b[0m \u001b[1m0s\u001b[0m 41ms/step\n",
            "\u001b[1m1/1\u001b[0m \u001b[32m━━━━━━━━━━━━━━━━━━━━\u001b[0m\u001b[37m\u001b[0m \u001b[1m0s\u001b[0m 40ms/step\n",
            "\u001b[1m1/1\u001b[0m \u001b[32m━━━━━━━━━━━━━━━━━━━━\u001b[0m\u001b[37m\u001b[0m \u001b[1m0s\u001b[0m 40ms/step\n",
            "\u001b[1m1/1\u001b[0m \u001b[32m━━━━━━━━━━━━━━━━━━━━\u001b[0m\u001b[37m\u001b[0m \u001b[1m0s\u001b[0m 40ms/step\n",
            "\u001b[1m1/1\u001b[0m \u001b[32m━━━━━━━━━━━━━━━━━━━━\u001b[0m\u001b[37m\u001b[0m \u001b[1m0s\u001b[0m 39ms/step\n",
            "\n",
            "Predicted Corrected: the recording division at some additional questions\n"
          ]
        }
      ]
    },
    {
      "cell_type": "code",
      "source": [
        "import gradio as gr\n",
        "\n",
        "def gradio_predict_correction(input_raw_text):\n",
        "    \"\"\"\n",
        "    Wrapper function to call the prediction function and return only the string output.\n",
        "    Designed to be used as the 'fn' for the Gradio interface.\n",
        "    \"\"\"\n",
        "    # Call your main prediction function. It returns the decoded string and attention weights.\n",
        "    predicted_sentence, attention_matrix = get_predicted_sentence_with_attention(input_raw_text)\n",
        "\n",
        "    # Return *only* the predicted sentence string for Gradio\n",
        "    return predicted_sentence\n",
        "\n",
        "# Define the Gradio interface\n",
        "# fn: Set this to call our new wrapper function\n",
        "# inputs: A textbox for the user's input sentence\n",
        "# outputs: A textbox to display the corrected sentence string\n",
        "iface = gr.Interface(\n",
        "    fn=gradio_predict_correction, # Use the new wrapper function here\n",
        "    inputs=gr.Textbox(lines=2, placeholder=\"Enter a sentence with potential grammar errors here...\", label=\"Sentence with Errors\"),\n",
        "    outputs=gr.Textbox(label=\"Corrected Sentence\"),\n",
        "    title=\"Sentence Corrector (Keras RNN with Attention)\", # Updated title slightly\n",
        "    description=\"Enter a sentence, and the model trained on your dataset will attempt to correct its grammar.\",\n",
        "    # You can add examples here - use simple sentences, ideally ones with obvious errors\n",
        "    examples=[\n",
        "        [\"i is going to the store now\"], # Example based on typical errors\n",
        "        [\"She no speak English good.\"],\n",
        "        [\"He run fast yesterday.\"],\n",
        "        [\"They walks to school every day.\"],\n",
        "        [\"Apples are red and banans are yelow.\"]\n",
        "    ]\n",
        ")\n",
        "\n",
        "# Launch the Gradio interface\n",
        "print(\"\\nLaunching Gradio interface...\")\n",
        "# Set debug=False if you don't need verbose output during interaction\n",
        "# iface.launch(share=True, debug=False) # Or keep debug=True if you need it\n",
        "\n",
        "# Launch with a specific port if needed, but share=True is easiest in Colab\n",
        "iface.launch(share=True)"
      ],
      "metadata": {
        "id": "PuGzBl_8sm91",
        "colab": {
          "base_uri": "https://localhost:8080/",
          "height": 641
        },
        "outputId": "99ddc0cb-5dbc-422a-b66b-5a851b2c2e42"
      },
      "execution_count": 20,
      "outputs": [
        {
          "output_type": "stream",
          "name": "stdout",
          "text": [
            "\n",
            "Launching Gradio interface...\n",
            "Colab notebook detected. To show errors in colab notebook, set debug=True in launch()\n",
            "* Running on public URL: https://e25a7fdf12b34911e3.gradio.live\n",
            "\n",
            "This share link expires in 1 week. For free permanent hosting and GPU upgrades, run `gradio deploy` from the terminal in the working directory to deploy to Hugging Face Spaces (https://huggingface.co/spaces)\n"
          ]
        },
        {
          "output_type": "display_data",
          "data": {
            "text/plain": [
              "<IPython.core.display.HTML object>"
            ],
            "text/html": [
              "<div><iframe src=\"https://e25a7fdf12b34911e3.gradio.live\" width=\"100%\" height=\"500\" allow=\"autoplay; camera; microphone; clipboard-read; clipboard-write;\" frameborder=\"0\" allowfullscreen></iframe></div>"
            ]
          },
          "metadata": {}
        },
        {
          "output_type": "execute_result",
          "data": {
            "text/plain": []
          },
          "metadata": {},
          "execution_count": 20
        }
      ]
    }
  ]
}